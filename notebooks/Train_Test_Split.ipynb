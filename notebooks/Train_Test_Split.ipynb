{
  "nbformat": 4,
  "nbformat_minor": 0,
  "metadata": {
    "colab": {
      "provenance": []
    },
    "kernelspec": {
      "name": "python3",
      "display_name": "Python 3"
    },
    "language_info": {
      "name": "python"
    }
  },
  "cells": [
    {
      "cell_type": "code",
      "source": [
        "import pandas as pd\n",
        "from termcolor import colored\n",
        "from sklearn.model_selection import train_test_split"
      ],
      "metadata": {
        "id": "dw_amvdnqIkd"
      },
      "execution_count": 3,
      "outputs": []
    },
    {
      "cell_type": "code",
      "source": [
        "\n",
        "# Define columns to load\n",
        "COLUMNS = ['Sentiment', 'Tweet']\n",
        "print(colored(\"Loading useful columns: Sentiment and Tweet\", \"yellow\"))"
      ],
      "metadata": {
        "colab": {
          "base_uri": "https://localhost:8080/"
        },
        "id": "_WH78Bzvrhvp",
        "outputId": "f660947a-738c-4f82-84c6-f774ab9e7d41"
      },
      "execution_count": 4,
      "outputs": [
        {
          "output_type": "stream",
          "name": "stdout",
          "text": [
            "Loading useful columns: Sentiment and Tweet\n"
          ]
        }
      ]
    },
    {
      "cell_type": "code",
      "source": [
        "# Load dataset with only the required columns\n",
        "dataset = pd.read_csv('/content/tweets.csv', usecols=[0, 5], names=COLUMNS, encoding='latin-1', skiprows=1)\n",
        "print(colored(\"Data loaded with {} rows and {} columns\".format(dataset.shape[0], dataset.shape[1]), \"yellow\"))\n"
      ],
      "metadata": {
        "colab": {
          "base_uri": "https://localhost:8080/"
        },
        "id": "fh4Ek5i8rlgj",
        "outputId": "c2bd4ff7-e58e-42cc-d989-8dec0ca640be"
      },
      "execution_count": 5,
      "outputs": [
        {
          "output_type": "stream",
          "name": "stdout",
          "text": [
            "Data loaded with 1599999 rows and 2 columns\n"
          ]
        }
      ]
    },
    {
      "cell_type": "code",
      "source": [
        "# Train-test split\n",
        "print(colored(\"Splitting dataset into 80% train and 20% test\", \"yellow\"))\n",
        "X_train, X_test, y_train, y_test = train_test_split(\n",
        "    dataset['Tweet'], dataset['Sentiment'], test_size=0.20, random_state=100\n",
        ")"
      ],
      "metadata": {
        "colab": {
          "base_uri": "https://localhost:8080/"
        },
        "id": "lx4772YgrpuE",
        "outputId": "5216ed62-fe86-476a-f5b4-7cd856506716"
      },
      "execution_count": 6,
      "outputs": [
        {
          "output_type": "stream",
          "name": "stdout",
          "text": [
            "Splitting dataset into 80% train and 20% test\n"
          ]
        }
      ]
    },
    {
      "cell_type": "code",
      "source": [
        "# Create train and test datasets\n",
        "train_dataset = pd.DataFrame({'Tweet': X_train, 'Sentiment': y_train}).reset_index(drop=True)\n",
        "test_dataset = pd.DataFrame({'Tweet': X_test, 'Sentiment': y_test}).reset_index(drop=True)"
      ],
      "metadata": {
        "id": "W0gIuDMmrtqa"
      },
      "execution_count": 7,
      "outputs": []
    },
    {
      "cell_type": "code",
      "source": [
        "# Display distributions for verification\n",
        "print(colored(\"Train data sentiment distribution:\", \"yellow\"))\n",
        "print(train_dataset['Sentiment'].value_counts())\n",
        "print(colored(\"Test data sentiment distribution:\", \"yellow\"))\n",
        "print(test_dataset['Sentiment'].value_counts())\n",
        "print(colored(\"Split complete\", \"yellow\"))"
      ],
      "metadata": {
        "colab": {
          "base_uri": "https://localhost:8080/"
        },
        "id": "mkHlZz09rxZe",
        "outputId": "76077684-86c9-46bf-d375-147898145651"
      },
      "execution_count": 8,
      "outputs": [
        {
          "output_type": "stream",
          "name": "stdout",
          "text": [
            "Train data sentiment distribution:\n",
            "Sentiment\n",
            "0    640138\n",
            "4    639861\n",
            "Name: count, dtype: int64\n",
            "Test data sentiment distribution:\n",
            "Sentiment\n",
            "4    160139\n",
            "0    159861\n",
            "Name: count, dtype: int64\n",
            "Split complete\n"
          ]
        }
      ]
    },
    {
      "cell_type": "code",
      "source": [
        "# Save datasets\n",
        "print(colored(\"Saving train data\", \"yellow\"))\n",
        "train_dataset.to_csv('/content/train.csv', index=False)\n",
        "print(colored(\"Train data saved to /content/train.csv\", \"green\"))\n",
        "\n",
        "print(colored(\"Saving test data\", \"yellow\"))\n",
        "test_dataset.to_csv('/content/test.csv', index=False)\n",
        "print(colored(\"Test data saved to /content/test.csv\", \"green\"))"
      ],
      "metadata": {
        "colab": {
          "base_uri": "https://localhost:8080/"
        },
        "id": "pBO60fRer0k3",
        "outputId": "32be927a-7c61-45e9-d36b-e2d692c55296"
      },
      "execution_count": 9,
      "outputs": [
        {
          "output_type": "stream",
          "name": "stdout",
          "text": [
            "Saving train data\n",
            "Train data saved to /content/train.csv\n",
            "Saving test data\n",
            "Test data saved to /content/test.csv\n"
          ]
        }
      ]
    }
  ]
}